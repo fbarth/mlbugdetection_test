{
 "cells": [
  {
   "cell_type": "code",
   "execution_count": 4,
   "metadata": {},
   "outputs": [
    {
     "name": "stdout",
     "output_type": "stream",
     "text": [
      "  diagnosis  radius_mean  texture_mean  perimeter_mean  area_mean  \\\n",
      "0         B        10.26         14.71           66.20      321.6   \n",
      "1         B        12.43         17.00           78.60      477.3   \n",
      "2         M        17.20         24.52          114.20      929.4   \n",
      "3         B        14.26         18.17           91.22      633.1   \n",
      "4         B         7.76         24.54           47.92      181.0   \n",
      "\n",
      "   smoothness_mean  compactness_mean  concavity_mean  concave points_mean  \\\n",
      "0          0.09882           0.09159         0.03581              0.02037   \n",
      "1          0.07557           0.03454         0.01342              0.01699   \n",
      "2          0.10710           0.18300         0.16920              0.07944   \n",
      "3          0.06576           0.05220         0.02475              0.01374   \n",
      "4          0.05263           0.04362         0.00000              0.00000   \n",
      "\n",
      "   symmetry_mean  ...  radius_worst  texture_worst  perimeter_worst  \\\n",
      "0         0.1633  ...        10.880          19.48            70.89   \n",
      "1         0.1472  ...        12.900          20.21            81.76   \n",
      "2         0.1927  ...        23.320          33.82           151.60   \n",
      "3         0.1635  ...        16.220          25.26           105.80   \n",
      "4         0.1587  ...         9.456          30.37            59.16   \n",
      "\n",
      "   area_worst  smoothness_worst  compactness_worst  concavity_worst  \\\n",
      "0       357.1           0.13600            0.16360          0.07162   \n",
      "1       515.9           0.08409            0.04712          0.02237   \n",
      "2      1681.0           0.15850            0.73940          0.65660   \n",
      "3       819.7           0.09445            0.21670          0.15650   \n",
      "4       268.6           0.08996            0.06444          0.00000   \n",
      "\n",
      "   concave points_worst  symmetry_worst  fractal_dimension_worst  \n",
      "0               0.04074          0.2434                  0.08488  \n",
      "1               0.02832          0.1901                  0.05932  \n",
      "2               0.18990          0.3313                  0.13390  \n",
      "3               0.07530          0.2636                  0.07676  \n",
      "4               0.00000          0.2871                  0.07039  \n",
      "\n",
      "[5 rows x 31 columns]\n",
      "(512, 30)\n",
      "(512,)\n"
     ]
    }
   ],
   "source": [
    "import pandas as pd\n",
    "# reading pre-formatted dataset\n",
    "X_train = pd.read_csv(\"../data/cancer_mama_train.csv\") \n",
    "X_train = X_train.drop(columns=['Unnamed: 0'])\n",
    "\n",
    "df_diagnosis = pd.read_csv(\"../data/cancer_mama_train_answer.csv\") \n",
    "df_diagnosis = df_diagnosis.drop(columns=['Unnamed: 0'])\n",
    "y_train = df_diagnosis['diagnosis'].ravel()\n",
    "\n",
    "# joining info and diagnosis into one df\n",
    "df_full = pd.concat([df_diagnosis, X_train], axis=1)\n",
    "df_full.head()\n",
    "\n",
    "print(df_full.head())\n",
    "\n",
    "print(X_train.shape)\n",
    "print(y_train.shape)"
   ]
  },
  {
   "cell_type": "code",
   "execution_count": 5,
   "metadata": {},
   "outputs": [
    {
     "name": "stdout",
     "output_type": "stream",
     "text": [
      "Best estimator: 200\n",
      "    estimators     score\n",
      "0        100.0  0.928333\n",
      "1        150.0  0.928333\n",
      "2        200.0  0.938462\n",
      "3        250.0  0.933333\n",
      "4        300.0  0.933333\n",
      "5        350.0  0.933333\n",
      "6        400.0  0.933333\n",
      "7        450.0  0.928205\n",
      "8        500.0  0.933333\n",
      "9        550.0  0.933333\n",
      "10       600.0  0.933333\n",
      "11       650.0  0.933333\n",
      "12       700.0  0.933333\n",
      "13       750.0  0.933333\n",
      "14       800.0  0.933333\n",
      "15       850.0  0.933333\n",
      "16       900.0  0.933333\n",
      "17       950.0  0.933333\n",
      "18      1000.0  0.933333\n"
     ]
    },
    {
     "data": {
      "text/plain": [
       "<AxesSubplot: xlabel='estimators', ylabel='score'>"
      ]
     },
     "execution_count": 5,
     "metadata": {},
     "output_type": "execute_result"
    },
    {
     "data": {
      "image/png": "[encoded data removed]",
      "text/plain": [
       "<Figure size 640x480 with 1 Axes>"
      ]
     },
     "metadata": {},
     "output_type": "display_data"
    }
   ],
   "source": [
    "import seaborn as sns\n",
    "import numpy as np\n",
    "from sklearn.ensemble import GradientBoostingClassifier\n",
    "from sklearn.metrics import recall_score, make_scorer\n",
    "from sklearn.model_selection import cross_val_score, cross_val_predict\n",
    "\n",
    "# loop to find best number of estimators\n",
    "min_estimators = 100\n",
    "max_estimators = 1000\n",
    "step = 50\n",
    "result = []\n",
    "best_score = 0\n",
    "best_estimator = 0\n",
    "\n",
    "for i in range(min_estimators, max_estimators+step, step):\n",
    "    clf = GradientBoostingClassifier(\n",
    "        n_estimators=i, \n",
    "        random_state=0)\n",
    "    \n",
    "    s = make_scorer(recall_score, pos_label='M')\n",
    "    scores = cross_val_score(clf, X_train, y_train, cv=5, scoring=s)\n",
    "    if (scores.mean() > best_score):\n",
    "        best_estimator = i\n",
    "        best_score = scores.mean()\n",
    "    result.append((i, scores.mean()))\n",
    "    \n",
    "# converting result into dataframe\n",
    "estimators = np.array(result)[:,0]\n",
    "score = np.array(result)[:,1]\n",
    "d = {'estimators': estimators, 'score': score}\n",
    "df_scores = pd.DataFrame(d)\n",
    "print(f'Best estimator: {best_estimator}')\n",
    "print(df_scores)\n",
    "\n",
    "# plotting results\n",
    "sns.set_theme(style=\"dark\")\n",
    "sns.set_palette(\"colorblind\")\n",
    "sns.lineplot(\n",
    "        data=df_scores,\n",
    "        x=\"estimators\", \n",
    "        y=\"score\"\n",
    "    )"
   ]
  },
  {
   "cell_type": "code",
   "execution_count": 6,
   "metadata": {},
   "outputs": [
    {
     "name": "stdout",
     "output_type": "stream",
     "text": [
      "recall_score: 0.93846 (+/- 0.06196)\n"
     ]
    }
   ],
   "source": [
    "clf = GradientBoostingClassifier(\n",
    "        n_estimators=200,\n",
    "        random_state=0)\n",
    "s = make_scorer(recall_score, pos_label='M')\n",
    "scores = cross_val_score(clf, X_train, y_train, cv=5, scoring=s)\n",
    "y_pred = cross_val_predict(clf, X_train, y_train, cv=5)\n",
    "print(\"recall_score: %0.5f (+/- %0.5f)\" % (scores.mean(), scores.std()))"
   ]
  },
  {
   "cell_type": "code",
   "execution_count": 9,
   "metadata": {},
   "outputs": [
    {
     "data": {
      "text/html": [
       "<style>#sk-container-id-1 {color: black;background-color: white;}#sk-container-id-1 pre{padding: 0;}#sk-container-id-1 div.sk-toggleable {background-color: white;}#sk-container-id-1 label.sk-toggleable__label {cursor: pointer;display: block;width: 100%;margin-bottom: 0;padding: 0.3em;box-sizing: border-box;text-align: center;}#sk-container-id-1 label.sk-toggleable__label-arrow:before {content: \"▸\";float: left;margin-right: 0.25em;color: #696969;}#sk-container-id-1 label.sk-toggleable__label-arrow:hover:before {color: black;}#sk-container-id-1 div.sk-estimator:hover label.sk-toggleable__label-arrow:before {color: black;}#sk-container-id-1 div.sk-toggleable__content {max-height: 0;max-width: 0;overflow: hidden;text-align: left;background-color: #f0f8ff;}#sk-container-id-1 div.sk-toggleable__content pre {margin: 0.2em;color: black;border-radius: 0.25em;background-color: #f0f8ff;}#sk-container-id-1 input.sk-toggleable__control:checked~div.sk-toggleable__content {max-height: 200px;max-width: 100%;overflow: auto;}#sk-container-id-1 input.sk-toggleable__control:checked~label.sk-toggleable__label-arrow:before {content: \"▾\";}#sk-container-id-1 div.sk-estimator input.sk-toggleable__control:checked~label.sk-toggleable__label {background-color: #d4ebff;}#sk-container-id-1 div.sk-label input.sk-toggleable__control:checked~label.sk-toggleable__label {background-color: #d4ebff;}#sk-container-id-1 input.sk-hidden--visually {border: 0;clip: rect(1px 1px 1px 1px);clip: rect(1px, 1px, 1px, 1px);height: 1px;margin: -1px;overflow: hidden;padding: 0;position: absolute;width: 1px;}#sk-container-id-1 div.sk-estimator {font-family: monospace;background-color: #f0f8ff;border: 1px dotted black;border-radius: 0.25em;box-sizing: border-box;margin-bottom: 0.5em;}#sk-container-id-1 div.sk-estimator:hover {background-color: #d4ebff;}#sk-container-id-1 div.sk-parallel-item::after {content: \"\";width: 100%;border-bottom: 1px solid gray;flex-grow: 1;}#sk-container-id-1 div.sk-label:hover label.sk-toggleable__label {background-color: #d4ebff;}#sk-container-id-1 div.sk-serial::before {content: \"\";position: absolute;border-left: 1px solid gray;box-sizing: border-box;top: 0;bottom: 0;left: 50%;z-index: 0;}#sk-container-id-1 div.sk-serial {display: flex;flex-direction: column;align-items: center;background-color: white;padding-right: 0.2em;padding-left: 0.2em;position: relative;}#sk-container-id-1 div.sk-item {position: relative;z-index: 1;}#sk-container-id-1 div.sk-parallel {display: flex;align-items: stretch;justify-content: center;background-color: white;position: relative;}#sk-container-id-1 div.sk-item::before, #sk-container-id-1 div.sk-parallel-item::before {content: \"\";position: absolute;border-left: 1px solid gray;box-sizing: border-box;top: 0;bottom: 0;left: 50%;z-index: -1;}#sk-container-id-1 div.sk-parallel-item {display: flex;flex-direction: column;z-index: 1;position: relative;background-color: white;}#sk-container-id-1 div.sk-parallel-item:first-child::after {align-self: flex-end;width: 50%;}#sk-container-id-1 div.sk-parallel-item:last-child::after {align-self: flex-start;width: 50%;}#sk-container-id-1 div.sk-parallel-item:only-child::after {width: 0;}#sk-container-id-1 div.sk-dashed-wrapped {border: 1px dashed gray;margin: 0 0.4em 0.5em 0.4em;box-sizing: border-box;padding-bottom: 0.4em;background-color: white;}#sk-container-id-1 div.sk-label label {font-family: monospace;font-weight: bold;display: inline-block;line-height: 1.2em;}#sk-container-id-1 div.sk-label-container {text-align: center;}#sk-container-id-1 div.sk-container {/* jupyter's `normalize.less` sets `[hidden] { display: none; }` but bootstrap.min.css set `[hidden] { display: none !important; }` so we also need the `!important` here to be able to override the default hidden behavior on the sphinx rendered scikit-learn.org. See: https://github.com/scikit-learn/scikit-learn/issues/21755 */display: inline-block !important;position: relative;}#sk-container-id-1 div.sk-text-repr-fallback {display: none;}</style><div id=\"sk-container-id-1\" class=\"sk-top-container\"><div class=\"sk-text-repr-fallback\"><pre>GradientBoostingClassifier(n_estimators=200, random_state=0)</pre><b>In a Jupyter environment, please rerun this cell to show the HTML representation or trust the notebook. <br />On GitHub, the HTML representation is unable to render, please try loading this page with nbviewer.org.</b></div><div class=\"sk-container\" hidden><div class=\"sk-item\"><div class=\"sk-estimator sk-toggleable\"><input class=\"sk-toggleable__control sk-hidden--visually\" id=\"sk-estimator-id-1\" type=\"checkbox\" checked><label for=\"sk-estimator-id-1\" class=\"sk-toggleable__label sk-toggleable__label-arrow\">GradientBoostingClassifier</label><div class=\"sk-toggleable__content\"><pre>GradientBoostingClassifier(n_estimators=200, random_state=0)</pre></div></div></div></div></div>"
      ],
      "text/plain": [
       "GradientBoostingClassifier(n_estimators=200, random_state=0)"
      ]
     },
     "execution_count": 9,
     "metadata": {},
     "output_type": "execute_result"
    }
   ],
   "source": [
    "clf.fit(X_train, y_train)"
   ]
  },
  {
   "cell_type": "code",
   "execution_count": 12,
   "metadata": {},
   "outputs": [
    {
     "data": {
      "text/html": [
       "<div>\n",
       "<style scoped>\n",
       "    .dataframe tbody tr th:only-of-type {\n",
       "        vertical-align: middle;\n",
       "    }\n",
       "\n",
       "    .dataframe tbody tr th {\n",
       "        vertical-align: top;\n",
       "    }\n",
       "\n",
       "    .dataframe thead th {\n",
       "        text-align: right;\n",
       "    }\n",
       "</style>\n",
       "<table border=\"1\" class=\"dataframe\">\n",
       "  <thead>\n",
       "    <tr style=\"text-align: right;\">\n",
       "      <th></th>\n",
       "      <th>attr</th>\n",
       "      <th>value</th>\n",
       "    </tr>\n",
       "  </thead>\n",
       "  <tbody>\n",
       "    <tr>\n",
       "      <th>20</th>\n",
       "      <td>radius_worst</td>\n",
       "      <td>0.473144</td>\n",
       "    </tr>\n",
       "    <tr>\n",
       "      <th>22</th>\n",
       "      <td>perimeter_worst</td>\n",
       "      <td>0.245862</td>\n",
       "    </tr>\n",
       "    <tr>\n",
       "      <th>27</th>\n",
       "      <td>concave points_worst</td>\n",
       "      <td>0.105144</td>\n",
       "    </tr>\n",
       "    <tr>\n",
       "      <th>23</th>\n",
       "      <td>area_worst</td>\n",
       "      <td>0.049457</td>\n",
       "    </tr>\n",
       "    <tr>\n",
       "      <th>21</th>\n",
       "      <td>texture_worst</td>\n",
       "      <td>0.023190</td>\n",
       "    </tr>\n",
       "    <tr>\n",
       "      <th>7</th>\n",
       "      <td>concave points_mean</td>\n",
       "      <td>0.020562</td>\n",
       "    </tr>\n",
       "    <tr>\n",
       "      <th>13</th>\n",
       "      <td>area_se</td>\n",
       "      <td>0.018702</td>\n",
       "    </tr>\n",
       "    <tr>\n",
       "      <th>11</th>\n",
       "      <td>texture_se</td>\n",
       "      <td>0.016163</td>\n",
       "    </tr>\n",
       "    <tr>\n",
       "      <th>1</th>\n",
       "      <td>texture_mean</td>\n",
       "      <td>0.014731</td>\n",
       "    </tr>\n",
       "    <tr>\n",
       "      <th>26</th>\n",
       "      <td>concavity_worst</td>\n",
       "      <td>0.007602</td>\n",
       "    </tr>\n",
       "    <tr>\n",
       "      <th>24</th>\n",
       "      <td>smoothness_worst</td>\n",
       "      <td>0.004186</td>\n",
       "    </tr>\n",
       "    <tr>\n",
       "      <th>29</th>\n",
       "      <td>fractal_dimension_worst</td>\n",
       "      <td>0.002877</td>\n",
       "    </tr>\n",
       "    <tr>\n",
       "      <th>6</th>\n",
       "      <td>concavity_mean</td>\n",
       "      <td>0.002777</td>\n",
       "    </tr>\n",
       "    <tr>\n",
       "      <th>28</th>\n",
       "      <td>symmetry_worst</td>\n",
       "      <td>0.002174</td>\n",
       "    </tr>\n",
       "    <tr>\n",
       "      <th>12</th>\n",
       "      <td>perimeter_se</td>\n",
       "      <td>0.002103</td>\n",
       "    </tr>\n",
       "    <tr>\n",
       "      <th>14</th>\n",
       "      <td>smoothness_se</td>\n",
       "      <td>0.002039</td>\n",
       "    </tr>\n",
       "    <tr>\n",
       "      <th>3</th>\n",
       "      <td>area_mean</td>\n",
       "      <td>0.001827</td>\n",
       "    </tr>\n",
       "    <tr>\n",
       "      <th>25</th>\n",
       "      <td>compactness_worst</td>\n",
       "      <td>0.001696</td>\n",
       "    </tr>\n",
       "    <tr>\n",
       "      <th>10</th>\n",
       "      <td>radius_se</td>\n",
       "      <td>0.001559</td>\n",
       "    </tr>\n",
       "    <tr>\n",
       "      <th>5</th>\n",
       "      <td>compactness_mean</td>\n",
       "      <td>0.001441</td>\n",
       "    </tr>\n",
       "    <tr>\n",
       "      <th>8</th>\n",
       "      <td>symmetry_mean</td>\n",
       "      <td>0.001218</td>\n",
       "    </tr>\n",
       "    <tr>\n",
       "      <th>19</th>\n",
       "      <td>fractal_dimension_se</td>\n",
       "      <td>0.000447</td>\n",
       "    </tr>\n",
       "    <tr>\n",
       "      <th>0</th>\n",
       "      <td>radius_mean</td>\n",
       "      <td>0.000406</td>\n",
       "    </tr>\n",
       "    <tr>\n",
       "      <th>2</th>\n",
       "      <td>perimeter_mean</td>\n",
       "      <td>0.000320</td>\n",
       "    </tr>\n",
       "    <tr>\n",
       "      <th>4</th>\n",
       "      <td>smoothness_mean</td>\n",
       "      <td>0.000103</td>\n",
       "    </tr>\n",
       "    <tr>\n",
       "      <th>9</th>\n",
       "      <td>fractal_dimension_mean</td>\n",
       "      <td>0.000080</td>\n",
       "    </tr>\n",
       "    <tr>\n",
       "      <th>15</th>\n",
       "      <td>compactness_se</td>\n",
       "      <td>0.000078</td>\n",
       "    </tr>\n",
       "    <tr>\n",
       "      <th>16</th>\n",
       "      <td>concavity_se</td>\n",
       "      <td>0.000060</td>\n",
       "    </tr>\n",
       "    <tr>\n",
       "      <th>17</th>\n",
       "      <td>concave points_se</td>\n",
       "      <td>0.000044</td>\n",
       "    </tr>\n",
       "    <tr>\n",
       "      <th>18</th>\n",
       "      <td>symmetry_se</td>\n",
       "      <td>0.000006</td>\n",
       "    </tr>\n",
       "  </tbody>\n",
       "</table>\n",
       "</div>"
      ],
      "text/plain": [
       "                       attr     value\n",
       "20             radius_worst  0.473144\n",
       "22          perimeter_worst  0.245862\n",
       "27     concave points_worst  0.105144\n",
       "23               area_worst  0.049457\n",
       "21            texture_worst  0.023190\n",
       "7       concave points_mean  0.020562\n",
       "13                  area_se  0.018702\n",
       "11               texture_se  0.016163\n",
       "1              texture_mean  0.014731\n",
       "26          concavity_worst  0.007602\n",
       "24         smoothness_worst  0.004186\n",
       "29  fractal_dimension_worst  0.002877\n",
       "6            concavity_mean  0.002777\n",
       "28           symmetry_worst  0.002174\n",
       "12             perimeter_se  0.002103\n",
       "14            smoothness_se  0.002039\n",
       "3                 area_mean  0.001827\n",
       "25        compactness_worst  0.001696\n",
       "10                radius_se  0.001559\n",
       "5          compactness_mean  0.001441\n",
       "8             symmetry_mean  0.001218\n",
       "19     fractal_dimension_se  0.000447\n",
       "0               radius_mean  0.000406\n",
       "2            perimeter_mean  0.000320\n",
       "4           smoothness_mean  0.000103\n",
       "9    fractal_dimension_mean  0.000080\n",
       "15           compactness_se  0.000078\n",
       "16             concavity_se  0.000060\n",
       "17        concave points_se  0.000044\n",
       "18              symmetry_se  0.000006"
      ]
     },
     "execution_count": 12,
     "metadata": {},
     "output_type": "execute_result"
    }
   ],
   "source": [
    "atributos = X_train.columns.to_list()\n",
    "important = pd.DataFrame({'attr': atributos, 'value': clf.feature_importances_})\n",
    "important.sort_values(by='value', ascending=False)"
   ]
  },
  {
   "cell_type": "code",
   "execution_count": 14,
   "metadata": {},
   "outputs": [
    {
     "data": {
      "text/plain": [
       "count    512.000000\n",
       "mean      16.338732\n",
       "std        4.882894\n",
       "min        7.930000\n",
       "25%       13.045000\n",
       "50%       15.000000\n",
       "75%       19.182500\n",
       "max       36.040000\n",
       "Name: radius_worst, dtype: float64"
      ]
     },
     "execution_count": 14,
     "metadata": {},
     "output_type": "execute_result"
    }
   ],
   "source": [
    "X_train['radius_worst'].describe()"
   ]
  },
  {
   "cell_type": "code",
   "execution_count": 15,
   "metadata": {},
   "outputs": [],
   "source": [
    "import pickle\n",
    "with open('../model/cancer_mama_model_gradient_boosting.pkl', 'wb') as f:\n",
    "    pickle.dump(clf, f)"
   ]
  },
  {
   "cell_type": "code",
   "execution_count": null,
   "metadata": {},
   "outputs": [],
   "source": []
  }
 ],
 "metadata": {
  "kernelspec": {
   "display_name": "Python 3.10.6 ('venv': venv)",
   "language": "python",
   "name": "python3"
  },
  "language_info": {
   "codemirror_mode": {
    "name": "ipython",
    "version": 3
   },
   "file_extension": ".py",
   "mimetype": "text/x-python",
   "name": "python",
   "nbconvert_exporter": "python",
   "pygments_lexer": "ipython3",
   "version": "3.10.6"
  },
  "orig_nbformat": 4,
  "vscode": {
   "interpreter": {
    "hash": "9ed97bd04ec233f50c8535b73a54973bd0f763a54bee009556f81b732c71fe66"
   }
  }
 },
 "nbformat": 4,
 "nbformat_minor": 2
}
